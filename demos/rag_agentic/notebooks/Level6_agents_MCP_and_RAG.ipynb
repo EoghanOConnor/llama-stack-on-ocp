{
 "cells": [
  {
   "cell_type": "markdown",
   "id": "b5ecd807-fb1c-41eb-a948-365e57396d90",
   "metadata": {},
   "source": [
    "# Level 6: MCP Based RAG (Medium Difficulty)\n",
    "\n",
    "This notebook is an extension of the [Level 5 Agentic & MCP notebook](./Level5_agents_and_mcp.ipynb) with the addition of RAG.\n",
    "This tutorial is for developers who are already familiar with [agentic RAG workflows](./Level4_RAG_agent.ipynb). This tutorial will highlight a couple of slightly more advanced use cases for agents where a single tool call is insufficient to complete the required task. Here we will rely on both agentic RAG and MCP server to expand our agents capabilities.\n",
    "\n",
    "## Overview\n",
    "\n",
    "This tutorial covers the following steps:\n",
    "1. Review OpenShift logs for a failing pod.\n",
    "2. Categorize the pod and summarize its error.\n",
    "3. Search available troubleshooting documentations for ideas on how to resolve the error.\n",
    "4. Send a Slack message to the ops team with a brief summary of the error and next steps to take.\n",
    "\n",
    "### MCP Tools:\n",
    "\n",
    "#### OpenShift MCP Server\n",
    "Throughout this notebook we will be relying on the [kuberenetes-mcp-server](https://github.com/manusa/kubernetes-mcp-server) by [manusa](https://github.com/manusa) to interact with our OpenShift cluster. Please see installation instructions below if you do not already have this deployed in your environment. \n",
    "\n",
    "* [OpenShift MCP installation instructions](../../../kubernetes/mcp-servers/openshift-mcp/README.md)\n",
    "\n",
    "#### Slack MCP Server\n",
    "We will also be using the [Slack MCP Server](https://github.com/modelcontextprotocol/servers/tree/main/src/slack) in this notebook. Please see installation instructions below if you do not already have this deployed in your environment. \n",
    "\n",
    "* [Slack MCP installation instructions](../../../kubernetes/mcp-servers/slack-mcp/README.md)\n",
    "\n",
    "### Pre-Requisites\n",
    "\n",
    "Before starting, ensure you have the following:\n",
    "- A running Llama Stack server\n",
    "- A running Slack MCP server. Refer to our [documentation](https://github.com/opendatahub-io/llama-stack-demos/tree/main/kubernetes/mcp-servers/slack-mcp) on how you can set this up on your OpenShift cluster\n",
    "- Access to an OpeShift cluster with a deployment of the [OpenShift MCP server](../../../kubernetes/mcp-servers/openshift-mcp) (see the [deployment manifests](https://github.com/opendatahub-io/llama-stack-on-ocp/tree/main/kubernetes/mcp-servers/openshift-mcp) for assistance with this).\n",
    "\n",
    "## Setting Up this Notebook\n",
    "We will initialize our environment as described in detail in our [\\\"Getting Started\\\" notebook](./Level0_getting_started_with_Llama_Stack.ipynb). Please refer to it for additional explanations."
   ]
  },
  {
   "cell_type": "code",
   "execution_count": 1,
   "id": "25fc0a44",
   "metadata": {},
   "outputs": [
    {
     "data": {
      "text/plain": [
       "True"
      ]
     },
     "execution_count": 1,
     "metadata": {},
     "output_type": "execute_result"
    }
   ],
   "source": [
    "# for communication with Llama Stack\n",
    "from llama_stack_client import LlamaStackClient\n",
    "from llama_stack_client import Agent\n",
    "from llama_stack_client.lib.agents.event_logger import EventLogger\n",
    "from llama_stack_client import RAGDocument\n",
    "\n",
    "# pretty print of the results returned from the model/agent\n",
    "import sys\n",
    "sys.path.append('..')  \n",
    "from src.utils import step_printer\n",
    "import uuid\n",
    "import os\n",
    "\n",
    "from dotenv import load_dotenv\n",
    "load_dotenv()"
   ]
  },
  {
   "cell_type": "code",
   "execution_count": 2,
   "id": "08281062-f222-4443-a7bc-0f6166aab36d",
   "metadata": {},
   "outputs": [
    {
     "name": "stdout",
     "output_type": "stream",
     "text": [
      "Connected to Llama Stack server\n",
      "Inference Parameters:\n",
      "\tModel: granite32-8b\n",
      "\tSampling Parameters: {'strategy': {'type': 'greedy'}, 'max_tokens': 512}\n",
      "\tstream: False\n"
     ]
    }
   ],
   "source": [
    "base_url = os.getenv(\"REMOTE_BASE_URL\")\n",
    "\n",
    "\n",
    "# Tavily search API key is required for some of our demos and must be provided to the client upon initialization.\n",
    "# We will cover it in the agentic demos that use the respective tool. Please ignore this parameter for all other demos.\n",
    "tavily_search_api_key = os.getenv(\"TAVILY_SEARCH_API_KEY\")\n",
    "if tavily_search_api_key is None:\n",
    "    provider_data = None\n",
    "else:\n",
    "    provider_data = {\"tavily_search_api_key\": tavily_search_api_key}\n",
    "\n",
    "\n",
    "client = LlamaStackClient(\n",
    "    base_url=base_url,\n",
    "    provider_data=provider_data\n",
    ")\n",
    "\n",
    "print(f\"Connected to Llama Stack server\")\n",
    "\n",
    "# model_id will later be used to pass the name of the desired inference model to Llama Stack Agents/Inference APIs\n",
    "model_id = \"granite32-8b\"\n",
    "\n",
    "temperature = float(os.getenv(\"TEMPERATURE\", 0.0))\n",
    "if temperature > 0.0:\n",
    "    top_p = float(os.getenv(\"TOP_P\", 0.95))\n",
    "    strategy = {\"type\": \"top_p\", \"temperature\": temperature, \"top_p\": top_p}\n",
    "else:\n",
    "    strategy = {\"type\": \"greedy\"}\n",
    "\n",
    "max_tokens = int(os.getenv(\"MAX_TOKENS\", 512))\n",
    "\n",
    "# sampling_params will later be used to pass the parameters to Llama Stack Agents/Inference APIs\n",
    "sampling_params = {\n",
    "    \"strategy\": strategy,\n",
    "    \"max_tokens\": max_tokens,\n",
    "}\n",
    "\n",
    "# For this demo, we are using Milvus Lite, which is our preferred solution. Any other Vector DB supported by Llama Stack can be used.\n",
    "\n",
    "# RAG vector DB settings\n",
    "VECTOR_DB_EMBEDDING_MODEL = os.getenv(\"VDB_EMBEDDING\")\n",
    "VECTOR_DB_EMBEDDING_DIMENSION = int(os.getenv(\"VDB_EMBEDDING_DIMENSION\", 384))\n",
    "VECTOR_DB_CHUNK_SIZE = int(os.getenv(\"VECTOR_DB_CHUNK_SIZE\", 512))\n",
    "VECTOR_DB_PROVIDER_ID = os.getenv(\"VDB_PROVIDER\")\n",
    "\n",
    "# Unique DB ID for session\n",
    "vector_db_id = f\"test_vector_db_{uuid.uuid4()}\"\n",
    "\n",
    "stream_env = os.getenv(\"STREAM\", \"False\")\n",
    "# the Boolean 'stream' parameter will later be passed to Llama Stack Agents/Inference APIs\n",
    "# any value non equal to 'False' will be considered as 'True'\n",
    "stream = (stream_env != \"False\")\n",
    "\n",
    "print(f\"Inference Parameters:\\n\\tModel: {model_id}\\n\\tSampling Parameters: {sampling_params}\\n\\tstream: {stream}\")"
   ]
  },
  {
   "cell_type": "markdown",
   "id": "a85664f8",
   "metadata": {},
   "source": [
    "### Indexing the Documents\n",
    "- Initialize a new document collection in the target vector DB. All parameters related to the vector DB, such as the embedding model and dimension, must be specified here.\n",
    "- Provide a list of document URLs to the RAG tool. Llama Stack will handle fetching, conversion and chunking of the documents' content."
   ]
  },
  {
   "cell_type": "code",
   "execution_count": 3,
   "id": "5a8f4dc4",
   "metadata": {},
   "outputs": [],
   "source": [
    "# define and register the document collection to be used\n",
    "client.vector_dbs.register(\n",
    "    vector_db_id=vector_db_id,\n",
    "    embedding_model=VECTOR_DB_EMBEDDING_MODEL,\n",
    "    embedding_dimension=VECTOR_DB_EMBEDDING_DIMENSION,\n",
    "    provider_id=VECTOR_DB_PROVIDER_ID,\n",
    ")\n",
    "\n",
    "# ingest the documents into the newly created document collection\n",
    "urls = [\n",
    "    (\"https://docs.redhat.com/en/documentation/openshift_container_platform/4.11/html/support/troubleshooting#troubleshooting-installations.html\", \"application/html\"),\n",
    "]\n",
    "documents = [\n",
    "    RAGDocument(\n",
    "        document_id=f\"num-{i}\",\n",
    "        content=url,\n",
    "        mime_type=url_type,\n",
    "        metadata={},\n",
    "    )\n",
    "    for i, (url, url_type) in enumerate(urls)\n",
    "]\n",
    "client.tool_runtime.rag_tool.insert(\n",
    "    documents=documents,\n",
    "    vector_db_id=vector_db_id,\n",
    "    chunk_size_in_tokens=VECTOR_DB_CHUNK_SIZE,\n",
    ")"
   ]
  },
  {
   "cell_type": "markdown",
   "id": "66044170",
   "metadata": {},
   "source": [
    "### Validate tools are available in our llama stack instance\n",
    "\n",
    "When an instance of llama stack is redeployed your tools need to re-registered. Also if a tool is already registered with a llama stack instance, if you try to register one with the same `toolgroup_id`, llama stack will throw you an error.\n",
    "\n",
    "For this reason it is recommended to include some code to validate your tools and toolgroups. This is where the `mcp_url` comes into play. The following code will check that the `builtin::rag`,`mcp::openshift`  and `mcp::slack` tools are registered as tools, but if any mcp tool is not listed there, it will attempt to register it using the mcp url.\n",
    "\n",
    "If you are running the MCP server from source, the default value for this is: `http://localhost:8000/sse`.\n",
    "\n",
    "If you are running the MCP server from a container, the default value for this is: `http://host.containers.internal:8000/sse`.\n",
    "\n",
    "Make sure to pass the corresponding MCP URL for the server you are trying to register/validate tools for."
   ]
  },
  {
   "cell_type": "code",
   "execution_count": 4,
   "id": "1b2cedaf-522b-4251-886a-d8aa7b9fcd18",
   "metadata": {},
   "outputs": [
    {
     "name": "stdout",
     "output_type": "stream",
     "text": [
      "Your Llama Stack server is already registered with the following tool groups: {'builtin::rag', 'builtin::websearch', 'mcp::slack', 'mcp::openshift'}\n",
      "\n"
     ]
    }
   ],
   "source": [
    "# Optional: Enter your MCP server URL here\n",
    "ocp_mcp_url = os.getenv(\"REMOTE_OCP_MCP_URL\") # Optional: enter your MCP server url here\n",
    "slack_mcp_url = os.getenv(\"REMOTE_SLACK_MCP_URL\") # Optional: enter your MCP server url here\n",
    "\n",
    "# Get list of registered tools and extract their toolgroup IDs\n",
    "registered_tools = client.tools.list()\n",
    "registered_toolgroups = [tool.toolgroup_id for tool in registered_tools]\n",
    "\n",
    "if  \"builtin::rag\" not in registered_toolgroups: # Required\n",
    "    client.toolgroups.register(\n",
    "        toolgroup_id=\"builtin::rag\",\n",
    "        provider_id=\"milvus\"\n",
    "    )\n",
    "\n",
    "if \"mcp::openshift\" not in registered_toolgroups: # required\n",
    "    client.toolgroups.register(\n",
    "        toolgroup_id=\"mcp::openshift\",\n",
    "        provider_id=\"model-context-protocol\",\n",
    "        mcp_endpoint={\"uri\":ocp_mcp_url},\n",
    "    )\n",
    "\n",
    "if \"mcp::slack\" not in registered_toolgroups: # required\n",
    "    client.toolgroups.register(\n",
    "        toolgroup_id=\"mcp::slack\",\n",
    "        provider_id=\"model-context-protocol\",\n",
    "        mcp_endpoint={\"uri\":slack_mcp_url},\n",
    "    )\n",
    "\n",
    "# Log the current toolgroups registered\n",
    "print(f\"Your Llama Stack server is already registered with the following tool groups: {set(registered_toolgroups)}\\n\")"
   ]
  },
  {
   "cell_type": "markdown",
   "id": "2bf70ace-b704-4379-aa88-3c793cc4f959",
   "metadata": {},
   "source": [
    "### System Prompts for different models\n",
    "\n",
    "**Note:** If you have multiple models configured with your Llama Stack server, you can choose which one to run your queries against. When switching to a different model, you may need to adjust the system prompt to align with that model’s expected behavior. Many models provide recommended system prompts for optimal and reliable outputs these are typically documented on their respective websites."
   ]
  },
  {
   "cell_type": "code",
   "execution_count": 5,
   "id": "3136e6dd",
   "metadata": {},
   "outputs": [],
   "source": [
    "model_prompt= \"\"\"You are a helpful assistant. You have access to a number of tools.\n",
    "Whenever a tool is called, be sure return the Response in a friendly and helpful tone.\"\"\""
   ]
  },
  {
   "cell_type": "markdown",
   "id": "6bc8d3f8",
   "metadata": {},
   "source": [
    "# Resolve and report any errors that might be happening on my OpenShift Cluster"
   ]
  },
  {
   "cell_type": "markdown",
   "id": "e6f6993e",
   "metadata": {},
   "source": [
    "We will also be using the [OpenShift MCP Server](https://github.com/manusa/kubernetes-mcp-server) and the [Slack MCP Server](https://github.com/modelcontextprotocol/servers/tree/main/src/slack) for this query. If you haven't already, you can follow the instructions [here](https://github.com/opendatahub-io/llama-stack-demos/tree/main/kubernetes/mcp-servers/slack-mcp#setting-up-on-ocp) to install the Slack MCP server and the instructions [here](https://github.com/opendatahub-io/llama-stack-demos/tree/main/kubernetes/mcp-servers/openshift-mcp#steps-for-deploying-the-openshift-mcp-server-on-openshift) to install the OpenShift MCP server. \n",
    "\n",
    "#### Additional Steps for Slack MCP Server\n",
    "Once you have the Slack MCP server running, you will need to:\n",
    "\n",
    "- Setup a slack app with your Slack workspace by following the steps [here](https://github.com/opendatahub-io/llama-stack-demos/tree/main/kubernetes/mcp-servers/slack-mcp#setting-up-the-slack-bot)\n",
    "- Once your Slack app is set up and you've got the OAuth token, you will need to provide the token into your Slack MCP server to let the app post messages to your channels.\n",
    "- Finally, you will need to register your Slack MCP server with your Llama Stack server"
   ]
  },
  {
   "cell_type": "code",
   "execution_count": 6,
   "id": "b340e517",
   "metadata": {},
   "outputs": [
    {
     "name": "stdout",
     "output_type": "stream",
     "text": [
      "\n",
      "---------- 📍 Step 1: InferenceStep ----------\n",
      "🛠️ Tool call Generated:\n",
      "\u001b[35mTool call: pods_log, Arguments: {'name': 'slack-test', 'namespace': 'llama-serve'}\u001b[0m\n",
      "\n",
      "---------- 📍 Step 2: ToolExecutionStep ----------\n",
      "🔧 Executing tool...\n"
     ]
    },
    {
     "data": {
      "text/html": [
       "<pre style=\"white-space:pre;overflow-x:auto;line-height:normal;font-family:Menlo,'DejaVu Sans Mono',consolas,'Courier New',monospace\"><span style=\"font-weight: bold\">{</span>\n",
       "<span style=\"color: #7fbf7f; text-decoration-color: #7fbf7f\">│   </span><span style=\"color: #008000; text-decoration-color: #008000\">'type'</span>: <span style=\"color: #008000; text-decoration-color: #008000\">'text'</span>,\n",
       "<span style=\"color: #7fbf7f; text-decoration-color: #7fbf7f\">│   </span><span style=\"color: #008000; text-decoration-color: #008000\">'text'</span>: <span style=\"color: #008000; text-decoration-color: #008000\">'Starting container...\\nFailure: Unknown Error\\nError details: Container failed due to an unexpected issue during startup.\\nPotential cause: Missing dependencies, configuration errors, or permission issues.\\n'</span>,\n",
       "<span style=\"color: #7fbf7f; text-decoration-color: #7fbf7f\">│   </span><span style=\"color: #008000; text-decoration-color: #008000\">'annotations'</span>: <span style=\"color: #800080; text-decoration-color: #800080; font-style: italic\">None</span>\n",
       "<span style=\"font-weight: bold\">}</span>\n",
       "</pre>\n"
      ],
      "text/plain": [
       "\u001b[1m{\u001b[0m\n",
       "\u001b[2;32m│   \u001b[0m\u001b[32m'type'\u001b[0m: \u001b[32m'text'\u001b[0m,\n",
       "\u001b[2;32m│   \u001b[0m\u001b[32m'text'\u001b[0m: \u001b[32m'Starting container...\\nFailure: Unknown Error\\nError details: Container failed due to an unexpected issue during startup.\\nPotential cause: Missing dependencies, configuration errors, or permission issues.\\n'\u001b[0m,\n",
       "\u001b[2;32m│   \u001b[0m\u001b[32m'annotations'\u001b[0m: \u001b[3;35mNone\u001b[0m\n",
       "\u001b[1m}\u001b[0m\n"
      ]
     },
     "metadata": {},
     "output_type": "display_data"
    },
    {
     "name": "stdout",
     "output_type": "stream",
     "text": [
      "\n",
      "---------- 📍 Step 3: InferenceStep ----------\n",
      "🤖 Model Response:\n",
      "\u001b[35mThe logs for the pod `slack-test` in the `llama-serve` OpenShift namespace indicate an error. The container failed due to an unexpected issue during startup. This could be due to missing dependencies, configuration errors, or permission issues.\n",
      "\u001b[0m\n",
      "========== Query processing completed ========== \n",
      "\n",
      "\n",
      "---------- 📍 Step 1: InferenceStep ----------\n",
      "🛠️ Tool call Generated:\n",
      "\u001b[35mTool call: knowledge_search, Arguments: {'query': 'Container failed due to an unexpected issue during startup'}\u001b[0m\n",
      "\n",
      "---------- 📍 Step 2: ToolExecutionStep ----------\n",
      "🔧 Executing tool...\n"
     ]
    },
    {
     "data": {
      "text/html": [
       "<pre style=\"white-space:pre;overflow-x:auto;line-height:normal;font-family:Menlo,'DejaVu Sans Mono',consolas,'Courier New',monospace\"><span style=\"font-weight: bold\">[</span>\n",
       "<span style=\"color: #7fbf7f; text-decoration-color: #7fbf7f\">│   </span><span style=\"color: #800080; text-decoration-color: #800080; font-weight: bold\">TextContentItem</span><span style=\"font-weight: bold\">(</span>\n",
       "<span style=\"color: #7fbf7f; text-decoration-color: #7fbf7f\">│   │   </span><span style=\"color: #808000; text-decoration-color: #808000\">text</span>=<span style=\"color: #008000; text-decoration-color: #008000\">'knowledge_search tool found 5 chunks:\\nBEGIN of knowledge_search tool results.\\n'</span>,\n",
       "<span style=\"color: #7fbf7f; text-decoration-color: #7fbf7f\">│   │   </span><span style=\"color: #808000; text-decoration-color: #808000\">type</span>=<span style=\"color: #008000; text-decoration-color: #008000\">'text'</span>\n",
       "<span style=\"color: #7fbf7f; text-decoration-color: #7fbf7f\">│   </span><span style=\"font-weight: bold\">)</span>,\n",
       "<span style=\"color: #7fbf7f; text-decoration-color: #7fbf7f\">│   </span><span style=\"color: #800080; text-decoration-color: #800080; font-weight: bold\">TextContentItem</span><span style=\"font-weight: bold\">(</span>\n",
       "<span style=\"color: #7fbf7f; text-decoration-color: #7fbf7f\">│   │   </span><span style=\"color: #808000; text-decoration-color: #808000\">text</span>=<span style=\"color: #008000; text-decoration-color: #008000\">'Result 1:\\nDocument_id:num-0\\nContent: RunInitContainer&lt;/code&gt;\\n\\t\\t\\t\\t\\t\\t\\t\\t&lt;/p&gt;\\n\\t\\t\\t\\t\\t\\t\\t\\t &lt;/td&gt;&lt;td align=\"left\" valign=\"top\" headers=\"idm140345532083552\"&gt; &lt;p&gt;\\n\\t\\t\\t\\t\\t\\t\\t\\t\\tContainer initialization failed.\\n\\t\\t\\t\\t\\t\\t\\t\\t&lt;/p&gt;\\n\\t\\t\\t\\t\\t\\t\\t\\t &lt;/td&gt;&lt;/tr&gt;&lt;tr&gt;&lt;td align=\"left\" valign=\"top\" headers=\"idm140345532084640\"&gt; &lt;p&gt;\\n\\t\\t\\t\\t\\t\\t\\t\\t\\t&lt;code class=\"literal\"&gt;ErrRunContainer&lt;/code&gt;\\n\\t\\t\\t\\t\\t\\t\\t\\t&lt;/p&gt;\\n\\t\\t\\t\\t\\t\\t\\t\\t &lt;/td&gt;&lt;td align=\"left\" valign=\"top\" headers=\"idm140345532083552\"&gt; &lt;p&gt;\\n\\t\\t\\t\\t\\t\\t\\t\\t\\tNone of the pod’s containers started successfully.\\n\\t\\t\\t\\t\\t\\t\\t\\t&lt;/p&gt;\\n\\t\\t\\t\\t\\t\\t\\t\\t &lt;/td&gt;&lt;/tr&gt;&lt;tr&gt;&lt;td align=\"left\" valign=\"top\" headers=\"idm140345532084640\"&gt; &lt;p&gt;\\n\\t\\t\\t\\t\\t\\t\\t\\t\\t&lt;code class=\"literal\"&gt;ErrKillContainer&lt;/code&gt;\\n\\t\\t\\t\\t\\t\\t\\t\\t&lt;/p&gt;\\n\\t\\t\\t\\t\\t\\t\\t\\t &lt;/td&gt;&lt;td align=\"left\" valign=\"top\" headers=\"idm140345532083552\"&gt; &lt;p&gt;\\n\\t\\t\\t\\t\\t\\t\\t\\t\\tNone of the pod’s containers were killed successfully.\\n\\t\\t\\t\\t\\t\\t\\t\\t&lt;/p&gt;\\n\\t\\t\\t\\t\\t\\t\\t\\t &lt;/td&gt;&lt;/tr&gt;&lt;tr&gt;&lt;td align=\"left\" valign=\"top\" headers=\"idm140345532084640\"&gt; &lt;p&gt;\\n\\t\\t\\t\\t\\t\\t\\t\\t\\t&lt;code class=\"literal\"&gt;ErrCrashLoopBackOff&lt;/code&gt;\\n\\t\\t\\t\\t\\t\\t\\t\\t&lt;/p&gt;\\n\\t\\t\\t\\t\\t\\t\\t\\t &lt;/td&gt;&lt;td align=\"left\" valign=\"top\" headers=\"idm140345532083552\"&gt; &lt;p&gt;\\n\\t\\t\\t\\t\\t\\t\\t\\t\\tA container has terminated. The kubelet will not attempt to restart it.\\n\\t\\t\\t\\t\\t\\t\\t\\t&lt;/p&gt;\\n\\t\\t\\t\\t\\t\\t\\t\\t &lt;/td&gt;&lt;/tr&gt;&lt;tr&gt;&lt;td align=\"left\" valign=\"top\" headers=\"idm140345532084640\"&gt; &lt;p&gt;\\n\\t\\t\\t\\t\\t\\t\\t\\t\\t&lt;code class=\"literal\"&gt;ErrVerifyNonRoot&lt;/code&gt;\\n\\t\\t\\t\\t\\t\\t\\t\\t&lt;/p&gt;\\n\\t\\t\\t\\t\\t\\t\\t\\t &lt;/td&gt;&lt;td align=\"left\" valign=\"top\" headers=\"idm140345532083552\"&gt; &lt;p&gt;\\n\\t\\t\\t\\t\\t\\t\\t\\t\\tA container or image attempted to run with root privileges.\\n\\t\\t\\t\\t\\t\\t\\t\\t&lt;/p&gt;\\n\\t\\t\\t\\t\\t\\t\\t\\t &lt;/td&gt;&lt;/tr&gt;&lt;tr&gt;&lt;td align=\"left\" valign=\"top\" headers=\"idm140345532084640\"&gt; &lt;p&gt;\\n\\t\\t\\t\\t\\t\\t\\t\\t\\t&lt;code class=\"literal\"&gt;ErrCreatePodSandbox&lt;/code&gt;\\n\\t\\t\\t\\t\\t\\t\\t\\t&lt;/p&gt;\\n\\t\\t\\t\\t\\t\\t\\t\\t &lt;/td&gt;&lt;td align=\"left\" valign=\"top\" headers=\"idm140345532083552\"&gt; &lt;p&gt;\\n\\t\\t\\t\\t\\t\\t\\t\\t\\tPod sandbox creation did not succeed.\\n\\t\\t\\t\\t\\t\\t\\t\\t&lt;/p&gt;\\n\\n'</span><span style=\"color: #000000; text-decoration-color: #000000\">,</span>\n",
       "<span style=\"color: #7fbf7f; text-decoration-color: #7fbf7f\">│   │   </span><span style=\"color: #808000; text-decoration-color: #808000\">type</span><span style=\"color: #000000; text-decoration-color: #000000\">=</span><span style=\"color: #008000; text-decoration-color: #008000\">'text'</span>\n",
       "<span style=\"color: #7fbf7f; text-decoration-color: #7fbf7f\">│   </span><span style=\"color: #000000; text-decoration-color: #000000; font-weight: bold\">)</span><span style=\"color: #000000; text-decoration-color: #000000\">,</span>\n",
       "<span style=\"color: #7fbf7f; text-decoration-color: #7fbf7f\">│   </span><span style=\"color: #800080; text-decoration-color: #800080; font-weight: bold\">TextContentItem</span><span style=\"color: #000000; text-decoration-color: #000000; font-weight: bold\">(</span>\n",
       "<span style=\"color: #7fbf7f; text-decoration-color: #7fbf7f\">│   │   </span><span style=\"color: #808000; text-decoration-color: #808000\">text</span><span style=\"color: #000000; text-decoration-color: #000000\">=</span><span style=\"color: #008000; text-decoration-color: #008000\">'Result 2:\\nDocument_id:num-0\\nContent: \\\\tYou cannot create a new container on a working node and the “can’t stat lower layer” error appears:\\\\n\\\\t\\\\t\\\\t\\\\t\\\\t\\\\t\\\\u003C/p&gt;\\\\u003Cpre class=\\\\\"programlisting language-terminal\\\\\"&gt;can\\'t stat lower layer ...  because it does not exist.  Going through storage to recreate the missing symlinks.\\\\u003C/pre&gt;\\\\u003C/li&gt;\\\\u003Cli class=\\\\\"listitem\\\\\"&gt;\\\\n\\\\t\\\\t\\\\t\\\\t\\\\t\\\\t\\\\tYour node is in the \\\\u003Ccode class=\\\\\"literal\\\\\"&gt;NotReady\\\\u003C/code&gt; state after a cluster upgrade or if you attempt to reboot it.\\\\n\\\\t\\\\t\\\\t\\\\t\\\\t\\\\t\\\\u003C/li&gt;\\\\u003Cli class=\\\\\"listitem\\\\\"&gt;\\\\n\\\\t\\\\t\\\\t\\\\t\\\\t\\\\t\\\\tThe container runtime implementation (\\\\u003Ccode class=\\\\\"literal\\\\\"&gt;crio\\\\u003C/code&gt;) is not working properly.\\\\n\\\\t\\\\t\\\\t\\\\t\\\\t\\\\t\\\\u003C/li&gt;\\\\u003Cli class=\\\\\"listitem\\\\\"&gt;\\\\n\\\\t\\\\t\\\\t\\\\t\\\\t\\\\t\\\\tYou are unable to start a debug shell on the node using \\\\u003Ccode class=\\\\\"literal\\\\\"&gt;oc debug node/&amp;lt;node_name&amp;gt;\\\\u003C/code&gt; because the container runtime instance (\\\\u003Ccode class=\\\\\"literal\\\\\"&gt;crio\\\\u003C/code&gt;) is not working.\\\\n\\\\t\\\\t\\\\t\\\\t\\\\t\\\\t\\\\u003C/li&gt;\\\\u003C/ul&gt;\\\\u003C/div&gt;\\\\u003Cp&gt;\\\\n\\\\t\\\\t\\\\t\\\\t\\\\tFollow this process to completely wipe the CRI-O storage and resolve the errors.\\\\n\\\\t\\\\t\\\\t\\\\t\\\\u003C/p&gt;\\\\u003Cdiv class=\\\\\"itemizedlist\\\\\"&gt;\\\\u003Cp class=\\\\\"title\\\\\"&gt;\\\\u003Cstrong&gt;Prerequisites:\\\\u003C/strong&gt;\\\\u003C/p&gt;\\\\u003Cul class=\\\\\"itemizedlist\\\\\" type=\\\\\"disc\\\\\"&gt;\\\\u003Cli class=\\\\\"listitem\\\\\"&gt;\\\\n\\\\t\\\\t\\\\t\\\\t\\\\t\\\\t\\\\tYou have access to the cluster as a user with the \\\\u003Ccode class=\\\\\"literal\\\\\"&gt;cluster-admin\\\\u003C/code&gt; role.\\\\n\\\\t\\\\t\\\\t\\\\t\\\\t\\\\t\\\\u003C/li&gt;\\\\u003Cli class=\\\\\"listitem\\\\\"&gt;\\\\n\\\\t\\\\t\\\\t\\\\t\\\\t\\\\t\\\\tYou have installed the OpenShift CLI (\\\\u003Ccode class=\\\\\"literal\\\\\"&gt;oc\\\\u003C/code&gt;).\\\\n\\\\t\\\\t\\\\t\\\\t\\\\t\\\\t\\\\u003C/li&gt;\\\\u003C/ul&gt;\\\\u003C/div&gt;\\\\u003Cdiv class=\\\\\"orderedlist\\\\\"&gt;\\\\\\n'</span><span style=\"color: #000000; text-decoration-color: #000000\">,</span>\n",
       "<span style=\"color: #7fbf7f; text-decoration-color: #7fbf7f\">│   │   </span><span style=\"color: #808000; text-decoration-color: #808000\">type</span><span style=\"color: #000000; text-decoration-color: #000000\">=</span><span style=\"color: #008000; text-decoration-color: #008000\">'text'</span>\n",
       "<span style=\"color: #7fbf7f; text-decoration-color: #7fbf7f\">│   </span><span style=\"color: #000000; text-decoration-color: #000000; font-weight: bold\">)</span><span style=\"color: #000000; text-decoration-color: #000000\">,</span>\n",
       "<span style=\"color: #7fbf7f; text-decoration-color: #7fbf7f\">│   </span><span style=\"color: #800080; text-decoration-color: #800080; font-weight: bold\">TextContentItem</span><span style=\"color: #000000; text-decoration-color: #000000; font-weight: bold\">(</span>\n",
       "<span style=\"color: #7fbf7f; text-decoration-color: #7fbf7f\">│   │   </span><span style=\"color: #808000; text-decoration-color: #808000\">text</span><span style=\"color: #000000; text-decoration-color: #000000\">=</span><span style=\"color: #008000; text-decoration-color: #008000\">'Result 3:\\nDocument_id:num-0\\nContent: /node-maintenance\":14662,\"virtualization/logging-events-and-monitoring\":14663,\"virtualization/backup-and-restore\":14664,\"service_mesh/index\":14665,\"service_mesh/service-mesh-2-x\":14666,\"service_mesh/service-mesh-1-x\":14667,\"windows_container_support_for_openshift/index\":14668,\"windows_container_support_for_openshift/windows-container-overview\":14669,\"windows_container_support_for_openshift/windows-containers-release-notes-6-x\":14670,\"windows_container_support_for_openshift/understanding-windows-container-workloads\":14671,\"windows_container_support_for_openshift/enabling-windows-container-workloads\":14672,\"windows_container_support_for_openshift/creating-windows-machine-sets\":14673,\"windows_container_support_for_openshift/scheduling-windows-workloads\":14674,\"windows_container_support_for_openshift/windows-node-upgrades\":14675,\"windows_container_support_for_openshift/byoh-windows-instance\":14676,\"windows_container_support_for_openshift/removing-windows-nodes\":14677,\"windows_container_support_for_openshift/disabling-windows-container-workloads\":14678,\"support/legal-notice\":14679},{\"prevt\":15,\"next\":14},{\"prevt\":15,\"next\":35},{\"prevt\":23,\"next\":15},{\"prevt\":14,\"next\":14},{\"prevt\":15,\"next\":58},{\"prevt\":50,\"next\":71},{\"prevt\":58,\"next\":88},{\"prevt\":71,\"next\":15},{\"prevt\":14,\"next\":14},{\"prevt\":15,\"next\":15},{\"prevt\":14,\"next\":14},{\"prevt\":15,\"next\":427},{\"prevt\":431,\"next\":457},{\"prevt\":427,\"next\":470},{\"prevt\":457,\"next\":487},{\"prevt\":470,\"next\":505},{\"prevt\":487,\"next\":523},{\"prevt\":505,\"next\":538},{\"prevt\":523,\"next\":15},{\"prevt\":14,\"next\":14},{\"prevt\":15,\"next\":565},{\"prevt\":557,\"next\":653},{\"prevt\":565,\"next\":676},{\"prevt\":653,\"next\":750},{\"prevt\":676,\"next\":912},{\"prevt\":750,\"next\":978},{\"prevt\":912,\"next\":1000},{\"prevt\":978,\"next\":1011},{\"prevt\":1000,\"next\":1021},{\"pre\\n'</span><span style=\"color: #000000; text-decoration-color: #000000\">,</span>\n",
       "<span style=\"color: #7fbf7f; text-decoration-color: #7fbf7f\">│   │   </span><span style=\"color: #808000; text-decoration-color: #808000\">type</span><span style=\"color: #000000; text-decoration-color: #000000\">=</span><span style=\"color: #008000; text-decoration-color: #008000\">'text'</span>\n",
       "<span style=\"color: #7fbf7f; text-decoration-color: #7fbf7f\">│   </span><span style=\"color: #000000; text-decoration-color: #000000; font-weight: bold\">)</span><span style=\"color: #000000; text-decoration-color: #000000\">,</span>\n",
       "<span style=\"color: #7fbf7f; text-decoration-color: #7fbf7f\">│   </span><span style=\"color: #800080; text-decoration-color: #800080; font-weight: bold\">TextContentItem</span><span style=\"color: #000000; text-decoration-color: #000000; font-weight: bold\">(</span>\n",
       "<span style=\"color: #7fbf7f; text-decoration-color: #7fbf7f\">│   │   </span><span style=\"color: #808000; text-decoration-color: #808000\">text</span><span style=\"color: #000000; text-decoration-color: #000000\">=</span><span style=\"color: #008000; text-decoration-color: #008000\">'Result 4:\\nDocument_id:num-0\\nContent: issues\",\"collecting-windows-application-event-logs_troubleshooting-windows-container-workload-issues\",\"collecting-docker-logs-windows_troubleshooting-windows-container-workload-issues\",\"additional-resources-4\",\"investigating-monitoring-issues\",\"investigating-why-user-defined-metrics-are-unavailable_investigating-monitoring-issues\",\"determining-why-prometheus-is-consuming-disk-space_investigating-monitoring-issues\",\"diagnosing-oc-issues\",\"understanding-oc-log-levels_diagnosing-oc-issues\",\"specifying-oc-log-levels_diagnosing-oc-issues\",\"/documentation/openshift_container_platform/4.11/html/support/troubleshooting\",{\"title\":1298,\"visible\":10,\"categoryName\":10,\"sections\":1299},\"Install\",[1300,4404],{\"title\":1301,\"visible\":10,\"weight\":13,\"urlFragment\":14,\"anchor\":15,\"singlePageAnchor\":15,\"subChapters\":1302,\"url\":1303,\"docTitle\":1304,\"sections\":1305},\"Installing\",[],\"/documentation/openshift_container_platform/4.11/html/installing/index\",\"installing\",[1306,1317,1330,1422,1524,1906,2129,2237,2576,2648,2686,2885,2913,2931,3026,3044,3142,3253,3359,3601,3724,4003,4282,4339,4365,4380,4392],{\"title\":1307,\"visible\":10,\"weight\":22,\"urlFragment\":1308,\"anchor\":15,\"singlePageAnchor\":1308,\"subChapters\":1309,\"url\":1316,\"docTitle\":1304},\"OpenShift Container Platform installation overview\",\"ocp-installation-overview\",[1310,460,461,1311,1312,1313,1314,1315],\"installation-overview_ocp-installation-overview\",\"install-openshift-common-terms_ocp-installation-overview\",\"installation-process_ocp-installation-overview\",\"ipi-verifying-nodes-after-installation_ocp-installation-overview\",\"installation-openshift-local_ocp-installation-overview\",\"supported-platforms-for-openshift-clusters_ocp-installation-overview\",\"/documentation/openshift_container_platform/4.11/html/installing/ocp-installation-overview\\n'</span><span style=\"color: #000000; text-decoration-color: #000000\">,</span>\n",
       "<span style=\"color: #7fbf7f; text-decoration-color: #7fbf7f\">│   │   </span><span style=\"color: #808000; text-decoration-color: #808000\">type</span><span style=\"color: #000000; text-decoration-color: #000000\">=</span><span style=\"color: #008000; text-decoration-color: #008000\">'text'</span>\n",
       "<span style=\"color: #7fbf7f; text-decoration-color: #7fbf7f\">│   </span><span style=\"color: #000000; text-decoration-color: #000000; font-weight: bold\">)</span><span style=\"color: #000000; text-decoration-color: #000000\">,</span>\n",
       "<span style=\"color: #7fbf7f; text-decoration-color: #7fbf7f\">│   </span><span style=\"color: #800080; text-decoration-color: #800080; font-weight: bold\">TextContentItem</span><span style=\"color: #000000; text-decoration-color: #000000; font-weight: bold\">(</span>\n",
       "<span style=\"color: #7fbf7f; text-decoration-color: #7fbf7f\">│   │   </span><span style=\"color: #808000; text-decoration-color: #808000\">text</span><span style=\"color: #000000; text-decoration-color: #000000\">=</span><span style=\"color: #008000; text-decoration-color: #008000\">'Result 5:\\nDocument_id:num-0\\nContent: 003C/li&gt;\\\\u003Cli class=\\\\\"listitem\\\\\"&gt;\\\\u003Cp class=\\\\\"simpara\\\\\"&gt;\\\\n\\\\t\\\\t\\\\t\\\\t\\\\t\\\\t\\\\t\\\\t\\\\tIf the pod has more than one container, the preceding command will create an error, and the container names will be provided in the error message. Inspect logs for each container:\\\\n\\\\t\\\\t\\\\t\\\\t\\\\t\\\\t\\\\t\\\\t\\\\u003C/p&gt;\\\\u003Cpre class=\\\\\"programlisting language-terminal\\\\\"&gt;$ oc logs pod/&amp;lt;pod_name&amp;gt; -c &amp;lt;container_name&amp;gt; -n &amp;lt;namespace&amp;gt;\\\\u003C/pre&gt;\\\\u003C/li&gt;\\\\u003C/ol&gt;\\\\u003C/div&gt;\\\\u003C/li&gt;\\\\u003Cli class=\\\\\"listitem\\\\\"&gt;\\\\u003Cp class=\\\\\"simpara\\\\\"&gt;\\\\n\\\\t\\\\t\\\\t\\\\t\\\\t\\\\t\\\\tIf the API is not functional, review etcd pod and container logs on each control plane node by using SSH instead. Replace \\\\u003Ccode class=\\\\\"literal\\\\\"&gt;&amp;lt;master-node&amp;gt;.&amp;lt;cluster_name&amp;gt;.&amp;lt;base_domain&amp;gt;\\\\u003C/code&gt; with appropriate values.\\\\n\\\\t\\\\t\\\\t\\\\t\\\\t\\\\t\\\\u003C/p&gt;\\\\u003Cdiv class=\\\\\"orderedlist\\\\\"&gt;\\\\u003Col class=\\\\\"orderedlist\\\\\" type=\\\\\"a\\\\\"&gt;\\\\u003Cli class=\\\\\"listitem\\\\\"&gt;\\\\u003Cp class=\\\\\"simpara\\\\\"&gt;\\\\n\\\\t\\\\t\\\\t\\\\t\\\\t\\\\t\\\\t\\\\t\\\\tList etcd pods on each control plane node:\\\\n\\\\t\\\\t\\\\t\\\\t\\\\t\\\\t\\\\t\\\\t\\\\u003C/p&gt;\\\\u003Cpre class=\\\\\"programlisting language-terminal\\\\\"&gt;$ ssh core@&amp;lt;master-node&amp;gt;.&amp;lt;cluster_name&amp;gt;.&amp;lt;base_domain&amp;gt; sudo crictl pods --name=etcd-\\\\u003C/pre&gt;\\\\u003C/li&gt;\\\\u003Cli class=\\\\\"listitem\\\\\"&gt;\\\\u003Cp class=\\\\\"simpara\\\\\"&gt;\\\\n\\\\t\\\\t\\\\t\\\\t\\\\t\\\\t\\\\t\\\\t\\\\tFor any pods not showing \\\\u003Ccode class=\\\\\"literal\\\\\"&gt;Ready\\\\u003C/code&gt; status, inspect pod status in detail. Replace \\\\u003Ccode class=\\\\\"literal\\\\\"&gt;&amp;lt;pod_id&amp;gt;\\\\u003C/code&gt; with the pod’s ID listed in the output of the preceding command:\\\\n\\\\t\\\\t\\\\t\\\\t\\\\t\\\\t\\\\t\\\\t\\\\u003C/p&gt;\\\\u003Cpre class=\\\\\"programlisting language-terminal\\\\\"&gt;$ ssh core@&amp;lt;master-node&amp;gt;.&amp;lt;cluster_name&amp;gt;.&amp;lt;base_domain\\n'</span>,\n",
       "<span style=\"color: #7fbf7f; text-decoration-color: #7fbf7f\">│   │   </span><span style=\"color: #808000; text-decoration-color: #808000\">type</span>=<span style=\"color: #008000; text-decoration-color: #008000\">'text'</span>\n",
       "<span style=\"color: #7fbf7f; text-decoration-color: #7fbf7f\">│   </span><span style=\"font-weight: bold\">)</span>,\n",
       "<span style=\"color: #7fbf7f; text-decoration-color: #7fbf7f\">│   </span><span style=\"color: #800080; text-decoration-color: #800080; font-weight: bold\">TextContentItem</span><span style=\"font-weight: bold\">(</span><span style=\"color: #808000; text-decoration-color: #808000\">text</span>=<span style=\"color: #008000; text-decoration-color: #008000\">'END of knowledge_search tool results.\\n'</span>, <span style=\"color: #808000; text-decoration-color: #808000\">type</span>=<span style=\"color: #008000; text-decoration-color: #008000\">'text'</span><span style=\"font-weight: bold\">)</span>,\n",
       "<span style=\"color: #7fbf7f; text-decoration-color: #7fbf7f\">│   </span><span style=\"color: #800080; text-decoration-color: #800080; font-weight: bold\">TextContentItem</span><span style=\"font-weight: bold\">(</span>\n",
       "<span style=\"color: #7fbf7f; text-decoration-color: #7fbf7f\">│   │   </span><span style=\"color: #808000; text-decoration-color: #808000\">text</span>=<span style=\"color: #008000; text-decoration-color: #008000\">'The above results were retrieved to help answer the user\\'s query: \"Container failed due to an unexpected issue during startup\". Use them as supporting information only in answering this query.\\n'</span>,\n",
       "<span style=\"color: #7fbf7f; text-decoration-color: #7fbf7f\">│   │   </span><span style=\"color: #808000; text-decoration-color: #808000\">type</span>=<span style=\"color: #008000; text-decoration-color: #008000\">'text'</span>\n",
       "<span style=\"color: #7fbf7f; text-decoration-color: #7fbf7f\">│   </span><span style=\"font-weight: bold\">)</span>\n",
       "<span style=\"font-weight: bold\">]</span>\n",
       "</pre>\n"
      ],
      "text/plain": [
       "\u001b[1m[\u001b[0m\n",
       "\u001b[2;32m│   \u001b[0m\u001b[1;35mTextContentItem\u001b[0m\u001b[1m(\u001b[0m\n",
       "\u001b[2;32m│   │   \u001b[0m\u001b[33mtext\u001b[0m=\u001b[32m'knowledge_search tool found 5 chunks:\\nBEGIN of knowledge_search tool results.\\n'\u001b[0m,\n",
       "\u001b[2;32m│   │   \u001b[0m\u001b[33mtype\u001b[0m=\u001b[32m'text'\u001b[0m\n",
       "\u001b[2;32m│   \u001b[0m\u001b[1m)\u001b[0m,\n",
       "\u001b[2;32m│   \u001b[0m\u001b[1;35mTextContentItem\u001b[0m\u001b[1m(\u001b[0m\n",
       "\u001b[2;32m│   │   \u001b[0m\u001b[33mtext\u001b[0m=\u001b[32m'Result 1:\\nDocument_id:num-0\\nContent: RunInitContainer\u001b[0m\u001b[32m<\u001b[0m\u001b[32m/code>\\n\\t\\t\\t\\t\\t\\t\\t\\t</p>\\n\\t\\t\\t\\t\\t\\t\\t\\t </td><td \u001b[0m\u001b[32malign\u001b[0m\u001b[32m=\u001b[0m\u001b[32m\"left\"\u001b[0m\u001b[32m \u001b[0m\u001b[32mvalign\u001b[0m\u001b[32m=\u001b[0m\u001b[32m\"top\"\u001b[0m\u001b[32m \u001b[0m\u001b[32mheaders\u001b[0m\u001b[32m=\u001b[0m\u001b[32m\"idm140345532083552\"\u001b[0m\u001b[32m> <p>\\n\\t\\t\\t\\t\\t\\t\\t\\t\\tContainer initialization failed.\\n\\t\\t\\t\\t\\t\\t\\t\\t</p>\\n\\t\\t\\t\\t\\t\\t\\t\\t </td></tr><tr><td \u001b[0m\u001b[32malign\u001b[0m\u001b[32m=\u001b[0m\u001b[32m\"left\"\u001b[0m\u001b[32m \u001b[0m\u001b[32mvalign\u001b[0m\u001b[32m=\u001b[0m\u001b[32m\"top\"\u001b[0m\u001b[32m \u001b[0m\u001b[32mheaders\u001b[0m\u001b[32m=\u001b[0m\u001b[32m\"idm140345532084640\"\u001b[0m\u001b[32m> <p>\\n\\t\\t\\t\\t\\t\\t\\t\\t\\t<code \u001b[0m\u001b[32mclass\u001b[0m\u001b[32m=\u001b[0m\u001b[32m\"literal\"\u001b[0m\u001b[32m>ErrRunContainer</code>\\n\\t\\t\\t\\t\\t\\t\\t\\t</p>\\n\\t\\t\\t\\t\\t\\t\\t\\t </td><td \u001b[0m\u001b[32malign\u001b[0m\u001b[32m=\u001b[0m\u001b[32m\"left\"\u001b[0m\u001b[32m \u001b[0m\u001b[32mvalign\u001b[0m\u001b[32m=\u001b[0m\u001b[32m\"top\"\u001b[0m\u001b[32m \u001b[0m\u001b[32mheaders\u001b[0m\u001b[32m=\u001b[0m\u001b[32m\"idm140345532083552\"\u001b[0m\u001b[32m> <p>\\n\\t\\t\\t\\t\\t\\t\\t\\t\\tNone of the pod’s containers started successfully.\\n\\t\\t\\t\\t\\t\\t\\t\\t</p>\\n\\t\\t\\t\\t\\t\\t\\t\\t </td></tr><tr><td \u001b[0m\u001b[32malign\u001b[0m\u001b[32m=\u001b[0m\u001b[32m\"left\"\u001b[0m\u001b[32m \u001b[0m\u001b[32mvalign\u001b[0m\u001b[32m=\u001b[0m\u001b[32m\"top\"\u001b[0m\u001b[32m \u001b[0m\u001b[32mheaders\u001b[0m\u001b[32m=\u001b[0m\u001b[32m\"idm140345532084640\"\u001b[0m\u001b[32m> <p>\\n\\t\\t\\t\\t\\t\\t\\t\\t\\t<code \u001b[0m\u001b[32mclass\u001b[0m\u001b[32m=\u001b[0m\u001b[32m\"literal\"\u001b[0m\u001b[32m>ErrKillContainer</code>\\n\\t\\t\\t\\t\\t\\t\\t\\t</p>\\n\\t\\t\\t\\t\\t\\t\\t\\t </td><td \u001b[0m\u001b[32malign\u001b[0m\u001b[32m=\u001b[0m\u001b[32m\"left\"\u001b[0m\u001b[32m \u001b[0m\u001b[32mvalign\u001b[0m\u001b[32m=\u001b[0m\u001b[32m\"top\"\u001b[0m\u001b[32m \u001b[0m\u001b[32mheaders\u001b[0m\u001b[32m=\u001b[0m\u001b[32m\"idm140345532083552\"\u001b[0m\u001b[32m> <p>\\n\\t\\t\\t\\t\\t\\t\\t\\t\\tNone of the pod’s containers were killed successfully.\\n\\t\\t\\t\\t\\t\\t\\t\\t</p>\\n\\t\\t\\t\\t\\t\\t\\t\\t </td></tr><tr><td \u001b[0m\u001b[32malign\u001b[0m\u001b[32m=\u001b[0m\u001b[32m\"left\"\u001b[0m\u001b[32m \u001b[0m\u001b[32mvalign\u001b[0m\u001b[32m=\u001b[0m\u001b[32m\"top\"\u001b[0m\u001b[32m \u001b[0m\u001b[32mheaders\u001b[0m\u001b[32m=\u001b[0m\u001b[32m\"idm140345532084640\"\u001b[0m\u001b[32m> <p>\\n\\t\\t\\t\\t\\t\\t\\t\\t\\t<code \u001b[0m\u001b[32mclass\u001b[0m\u001b[32m=\u001b[0m\u001b[32m\"literal\"\u001b[0m\u001b[32m>ErrCrashLoopBackOff</code>\\n\\t\\t\\t\\t\\t\\t\\t\\t</p>\\n\\t\\t\\t\\t\\t\\t\\t\\t </td><td \u001b[0m\u001b[32malign\u001b[0m\u001b[32m=\u001b[0m\u001b[32m\"left\"\u001b[0m\u001b[32m \u001b[0m\u001b[32mvalign\u001b[0m\u001b[32m=\u001b[0m\u001b[32m\"top\"\u001b[0m\u001b[32m \u001b[0m\u001b[32mheaders\u001b[0m\u001b[32m=\u001b[0m\u001b[32m\"idm140345532083552\"\u001b[0m\u001b[32m> <p>\\n\\t\\t\\t\\t\\t\\t\\t\\t\\tA container has terminated. The kubelet will not attempt to restart it.\\n\\t\\t\\t\\t\\t\\t\\t\\t</p>\\n\\t\\t\\t\\t\\t\\t\\t\\t </td></tr><tr><td \u001b[0m\u001b[32malign\u001b[0m\u001b[32m=\u001b[0m\u001b[32m\"left\"\u001b[0m\u001b[32m \u001b[0m\u001b[32mvalign\u001b[0m\u001b[32m=\u001b[0m\u001b[32m\"top\"\u001b[0m\u001b[32m \u001b[0m\u001b[32mheaders\u001b[0m\u001b[32m=\u001b[0m\u001b[32m\"idm140345532084640\"\u001b[0m\u001b[32m> <p>\\n\\t\\t\\t\\t\\t\\t\\t\\t\\t<code \u001b[0m\u001b[32mclass\u001b[0m\u001b[32m=\u001b[0m\u001b[32m\"literal\"\u001b[0m\u001b[32m>ErrVerifyNonRoot</code>\\n\\t\\t\\t\\t\\t\\t\\t\\t</p>\\n\\t\\t\\t\\t\\t\\t\\t\\t </td><td \u001b[0m\u001b[32malign\u001b[0m\u001b[32m=\u001b[0m\u001b[32m\"left\"\u001b[0m\u001b[32m \u001b[0m\u001b[32mvalign\u001b[0m\u001b[32m=\u001b[0m\u001b[32m\"top\"\u001b[0m\u001b[32m \u001b[0m\u001b[32mheaders\u001b[0m\u001b[32m=\u001b[0m\u001b[32m\"idm140345532083552\"\u001b[0m\u001b[32m> <p>\\n\\t\\t\\t\\t\\t\\t\\t\\t\\tA container or image attempted to run with root privileges.\\n\\t\\t\\t\\t\\t\\t\\t\\t</p>\\n\\t\\t\\t\\t\\t\\t\\t\\t </td></tr><tr><td \u001b[0m\u001b[32malign\u001b[0m\u001b[32m=\u001b[0m\u001b[32m\"left\"\u001b[0m\u001b[32m \u001b[0m\u001b[32mvalign\u001b[0m\u001b[32m=\u001b[0m\u001b[32m\"top\"\u001b[0m\u001b[32m \u001b[0m\u001b[32mheaders\u001b[0m\u001b[32m=\u001b[0m\u001b[32m\"idm140345532084640\"\u001b[0m\u001b[32m> <p>\\n\\t\\t\\t\\t\\t\\t\\t\\t\\t<code \u001b[0m\u001b[32mclass\u001b[0m\u001b[32m=\u001b[0m\u001b[32m\"literal\"\u001b[0m\u001b[32m>ErrCreatePodSandbox</code>\\n\\t\\t\\t\\t\\t\\t\\t\\t</p>\\n\\t\\t\\t\\t\\t\\t\\t\\t </td><td \u001b[0m\u001b[32malign\u001b[0m\u001b[32m=\u001b[0m\u001b[32m\"left\"\u001b[0m\u001b[32m \u001b[0m\u001b[32mvalign\u001b[0m\u001b[32m=\u001b[0m\u001b[32m\"top\"\u001b[0m\u001b[32m \u001b[0m\u001b[32mheaders\u001b[0m\u001b[32m=\u001b[0m\u001b[32m\"idm140345532083552\"\u001b[0m\u001b[32m> <p>\\n\\t\\t\\t\\t\\t\\t\\t\\t\\tPod sandbox creation did not succeed.\\n\\t\\t\\t\\t\\t\\t\\t\\t</p>\\n\\n'\u001b[0m\u001b[39m,\u001b[0m\n",
       "\u001b[2;32m│   │   \u001b[0m\u001b[33mtype\u001b[0m\u001b[39m=\u001b[0m\u001b[32m'text'\u001b[0m\n",
       "\u001b[2;32m│   \u001b[0m\u001b[1;39m)\u001b[0m\u001b[39m,\u001b[0m\n",
       "\u001b[2;32m│   \u001b[0m\u001b[1;35mTextContentItem\u001b[0m\u001b[1;39m(\u001b[0m\n",
       "\u001b[2;32m│   │   \u001b[0m\u001b[33mtext\u001b[0m\u001b[39m=\u001b[0m\u001b[32m'Result 2:\\nDocument_id:num-0\\nContent: \\\\tYou cannot create a new container on a working node and the “can’t stat lower layer” error appears:\\\\n\\\\t\\\\t\\\\t\\\\t\\\\t\\\\t\\\\u003C/p>\\\\u003Cpre \u001b[0m\u001b[32mclass\u001b[0m\u001b[32m=\\\\\"programlisting language-terminal\\\\\">can\\'t stat lower layer ...  because it does not exist.  Going through storage to recreate the missing symlinks.\\\\u003C/pre>\\\\u003C/li>\\\\u003Cli \u001b[0m\u001b[32mclass\u001b[0m\u001b[32m=\\\\\"listitem\\\\\">\\\\n\\\\t\\\\t\\\\t\\\\t\\\\t\\\\t\\\\tYour node is in the \\\\u003Ccode \u001b[0m\u001b[32mclass\u001b[0m\u001b[32m=\\\\\"literal\\\\\">NotReady\\\\u003C/code> state after a cluster upgrade or if you attempt to reboot it.\\\\n\\\\t\\\\t\\\\t\\\\t\\\\t\\\\t\\\\u003C/li>\\\\u003Cli \u001b[0m\u001b[32mclass\u001b[0m\u001b[32m=\\\\\"listitem\\\\\">\\\\n\\\\t\\\\t\\\\t\\\\t\\\\t\\\\t\\\\tThe container runtime implementation \u001b[0m\u001b[32m(\u001b[0m\u001b[32m\\\\u003Ccode \u001b[0m\u001b[32mclass\u001b[0m\u001b[32m=\\\\\"literal\\\\\">crio\\\\u003C/code>\u001b[0m\u001b[32m)\u001b[0m\u001b[32m is not working properly.\\\\n\\\\t\\\\t\\\\t\\\\t\\\\t\\\\t\\\\u003C/li>\\\\u003Cli \u001b[0m\u001b[32mclass\u001b[0m\u001b[32m=\\\\\"listitem\\\\\">\\\\n\\\\t\\\\t\\\\t\\\\t\\\\t\\\\t\\\\tYou are unable to start a debug shell on the node using \\\\u003Ccode \u001b[0m\u001b[32mclass\u001b[0m\u001b[32m=\\\\\"literal\\\\\">oc debug node/&lt;node_name&gt;\\\\u003C/code> because the container runtime instance \u001b[0m\u001b[32m(\u001b[0m\u001b[32m\\\\u003Ccode \u001b[0m\u001b[32mclass\u001b[0m\u001b[32m=\\\\\"literal\\\\\">crio\\\\u003C/code>\u001b[0m\u001b[32m)\u001b[0m\u001b[32m is not working.\\\\n\\\\t\\\\t\\\\t\\\\t\\\\t\\\\t\\\\u003C/li>\\\\u003C/ul>\\\\u003C/div>\\\\u003Cp>\\\\n\\\\t\\\\t\\\\t\\\\t\\\\tFollow this process to completely wipe the CRI-O storage and resolve the errors.\\\\n\\\\t\\\\t\\\\t\\\\t\\\\u003C/p>\\\\u003Cdiv \u001b[0m\u001b[32mclass\u001b[0m\u001b[32m=\\\\\"itemizedlist\\\\\">\\\\u003Cp \u001b[0m\u001b[32mclass\u001b[0m\u001b[32m=\\\\\"title\\\\\">\\\\u003Cstrong>Prerequisites:\\\\u003C/strong>\\\\u003C/p>\\\\u003Cul \u001b[0m\u001b[32mclass\u001b[0m\u001b[32m=\\\\\"itemizedlist\\\\\" \u001b[0m\u001b[32mtype\u001b[0m\u001b[32m=\\\\\"disc\\\\\">\\\\u003Cli \u001b[0m\u001b[32mclass\u001b[0m\u001b[32m=\\\\\"listitem\\\\\">\\\\n\\\\t\\\\t\\\\t\\\\t\\\\t\\\\t\\\\tYou have access to the cluster as a user with the \\\\u003Ccode \u001b[0m\u001b[32mclass\u001b[0m\u001b[32m=\\\\\"literal\\\\\">cluster-admin\\\\u003C/code> role.\\\\n\\\\t\\\\t\\\\t\\\\t\\\\t\\\\t\\\\u003C/li>\\\\u003Cli \u001b[0m\u001b[32mclass\u001b[0m\u001b[32m=\\\\\"listitem\\\\\">\\\\n\\\\t\\\\t\\\\t\\\\t\\\\t\\\\t\\\\tYou have installed the OpenShift CLI \u001b[0m\u001b[32m(\u001b[0m\u001b[32m\\\\u003Ccode \u001b[0m\u001b[32mclass\u001b[0m\u001b[32m=\\\\\"literal\\\\\">oc\\\\u003C/code>\u001b[0m\u001b[32m)\u001b[0m\u001b[32m.\\\\n\\\\t\\\\t\\\\t\\\\t\\\\t\\\\t\\\\u003C/li>\\\\u003C/ul>\\\\u003C/div>\\\\u003Cdiv \u001b[0m\u001b[32mclass\u001b[0m\u001b[32m=\\\\\"orderedlist\\\\\">\\\\\\n'\u001b[0m\u001b[39m,\u001b[0m\n",
       "\u001b[2;32m│   │   \u001b[0m\u001b[33mtype\u001b[0m\u001b[39m=\u001b[0m\u001b[32m'text'\u001b[0m\n",
       "\u001b[2;32m│   \u001b[0m\u001b[1;39m)\u001b[0m\u001b[39m,\u001b[0m\n",
       "\u001b[2;32m│   \u001b[0m\u001b[1;35mTextContentItem\u001b[0m\u001b[1;39m(\u001b[0m\n",
       "\u001b[2;32m│   │   \u001b[0m\u001b[33mtext\u001b[0m\u001b[39m=\u001b[0m\u001b[32m'Result 3:\\nDocument_id:num-0\\nContent: /node-maintenance\":14662,\"virtualization/logging-events-and-monitoring\":14663,\"virtualization/backup-and-restore\":14664,\"service_mesh/index\":14665,\"service_mesh/service-mesh-2-x\":14666,\"service_mesh/service-mesh-1-x\":14667,\"windows_container_support_for_openshift/index\":14668,\"windows_container_support_for_openshift/windows-container-overview\":14669,\"windows_container_support_for_openshift/windows-containers-release-notes-6-x\":14670,\"windows_container_support_for_openshift/understanding-windows-container-workloads\":14671,\"windows_container_support_for_openshift/enabling-windows-container-workloads\":14672,\"windows_container_support_for_openshift/creating-windows-machine-sets\":14673,\"windows_container_support_for_openshift/scheduling-windows-workloads\":14674,\"windows_container_support_for_openshift/windows-node-upgrades\":14675,\"windows_container_support_for_openshift/byoh-windows-instance\":14676,\"windows_container_support_for_openshift/removing-windows-nodes\":14677,\"windows_container_support_for_openshift/disabling-windows-container-workloads\":14678,\"support/legal-notice\":14679\u001b[0m\u001b[32m}\u001b[0m\u001b[32m,\u001b[0m\u001b[32m{\u001b[0m\u001b[32m\"prevt\":15,\"next\":14\u001b[0m\u001b[32m}\u001b[0m\u001b[32m,\u001b[0m\u001b[32m{\u001b[0m\u001b[32m\"prevt\":15,\"next\":35\u001b[0m\u001b[32m}\u001b[0m\u001b[32m,\u001b[0m\u001b[32m{\u001b[0m\u001b[32m\"prevt\":23,\"next\":15\u001b[0m\u001b[32m}\u001b[0m\u001b[32m,\u001b[0m\u001b[32m{\u001b[0m\u001b[32m\"prevt\":14,\"next\":14\u001b[0m\u001b[32m}\u001b[0m\u001b[32m,\u001b[0m\u001b[32m{\u001b[0m\u001b[32m\"prevt\":15,\"next\":58\u001b[0m\u001b[32m}\u001b[0m\u001b[32m,\u001b[0m\u001b[32m{\u001b[0m\u001b[32m\"prevt\":50,\"next\":71\u001b[0m\u001b[32m}\u001b[0m\u001b[32m,\u001b[0m\u001b[32m{\u001b[0m\u001b[32m\"prevt\":58,\"next\":88\u001b[0m\u001b[32m}\u001b[0m\u001b[32m,\u001b[0m\u001b[32m{\u001b[0m\u001b[32m\"prevt\":71,\"next\":15\u001b[0m\u001b[32m}\u001b[0m\u001b[32m,\u001b[0m\u001b[32m{\u001b[0m\u001b[32m\"prevt\":14,\"next\":14\u001b[0m\u001b[32m}\u001b[0m\u001b[32m,\u001b[0m\u001b[32m{\u001b[0m\u001b[32m\"prevt\":15,\"next\":15\u001b[0m\u001b[32m}\u001b[0m\u001b[32m,\u001b[0m\u001b[32m{\u001b[0m\u001b[32m\"prevt\":14,\"next\":14\u001b[0m\u001b[32m}\u001b[0m\u001b[32m,\u001b[0m\u001b[32m{\u001b[0m\u001b[32m\"prevt\":15,\"next\":427\u001b[0m\u001b[32m}\u001b[0m\u001b[32m,\u001b[0m\u001b[32m{\u001b[0m\u001b[32m\"prevt\":431,\"next\":457\u001b[0m\u001b[32m}\u001b[0m\u001b[32m,\u001b[0m\u001b[32m{\u001b[0m\u001b[32m\"prevt\":427,\"next\":470\u001b[0m\u001b[32m}\u001b[0m\u001b[32m,\u001b[0m\u001b[32m{\u001b[0m\u001b[32m\"prevt\":457,\"next\":487\u001b[0m\u001b[32m}\u001b[0m\u001b[32m,\u001b[0m\u001b[32m{\u001b[0m\u001b[32m\"prevt\":470,\"next\":505\u001b[0m\u001b[32m}\u001b[0m\u001b[32m,\u001b[0m\u001b[32m{\u001b[0m\u001b[32m\"prevt\":487,\"next\":523\u001b[0m\u001b[32m}\u001b[0m\u001b[32m,\u001b[0m\u001b[32m{\u001b[0m\u001b[32m\"prevt\":505,\"next\":538\u001b[0m\u001b[32m}\u001b[0m\u001b[32m,\u001b[0m\u001b[32m{\u001b[0m\u001b[32m\"prevt\":523,\"next\":15\u001b[0m\u001b[32m}\u001b[0m\u001b[32m,\u001b[0m\u001b[32m{\u001b[0m\u001b[32m\"prevt\":14,\"next\":14\u001b[0m\u001b[32m}\u001b[0m\u001b[32m,\u001b[0m\u001b[32m{\u001b[0m\u001b[32m\"prevt\":15,\"next\":565\u001b[0m\u001b[32m}\u001b[0m\u001b[32m,\u001b[0m\u001b[32m{\u001b[0m\u001b[32m\"prevt\":557,\"next\":653\u001b[0m\u001b[32m}\u001b[0m\u001b[32m,\u001b[0m\u001b[32m{\u001b[0m\u001b[32m\"prevt\":565,\"next\":676\u001b[0m\u001b[32m}\u001b[0m\u001b[32m,\u001b[0m\u001b[32m{\u001b[0m\u001b[32m\"prevt\":653,\"next\":750\u001b[0m\u001b[32m}\u001b[0m\u001b[32m,\u001b[0m\u001b[32m{\u001b[0m\u001b[32m\"prevt\":676,\"next\":912\u001b[0m\u001b[32m}\u001b[0m\u001b[32m,\u001b[0m\u001b[32m{\u001b[0m\u001b[32m\"prevt\":750,\"next\":978\u001b[0m\u001b[32m}\u001b[0m\u001b[32m,\u001b[0m\u001b[32m{\u001b[0m\u001b[32m\"prevt\":912,\"next\":1000\u001b[0m\u001b[32m}\u001b[0m\u001b[32m,\u001b[0m\u001b[32m{\u001b[0m\u001b[32m\"prevt\":978,\"next\":1011\u001b[0m\u001b[32m}\u001b[0m\u001b[32m,\u001b[0m\u001b[32m{\u001b[0m\u001b[32m\"prevt\":1000,\"next\":1021\u001b[0m\u001b[32m}\u001b[0m\u001b[32m,\u001b[0m\u001b[32m{\u001b[0m\u001b[32m\"pre\\n'\u001b[0m\u001b[39m,\u001b[0m\n",
       "\u001b[2;32m│   │   \u001b[0m\u001b[33mtype\u001b[0m\u001b[39m=\u001b[0m\u001b[32m'text'\u001b[0m\n",
       "\u001b[2;32m│   \u001b[0m\u001b[1;39m)\u001b[0m\u001b[39m,\u001b[0m\n",
       "\u001b[2;32m│   \u001b[0m\u001b[1;35mTextContentItem\u001b[0m\u001b[1;39m(\u001b[0m\n",
       "\u001b[2;32m│   │   \u001b[0m\u001b[33mtext\u001b[0m\u001b[39m=\u001b[0m\u001b[32m'Result 4:\\nDocument_id:num-0\\nContent: issues\",\"collecting-windows-application-event-logs_troubleshooting-windows-container-workload-issues\",\"collecting-docker-logs-windows_troubleshooting-windows-container-workload-issues\",\"additional-resources-4\",\"investigating-monitoring-issues\",\"investigating-why-user-defined-metrics-are-unavailable_investigating-monitoring-issues\",\"determining-why-prometheus-is-consuming-disk-space_investigating-monitoring-issues\",\"diagnosing-oc-issues\",\"understanding-oc-log-levels_diagnosing-oc-issues\",\"specifying-oc-log-levels_diagnosing-oc-issues\",\"/documentation/openshift_container_platform/4.11/html/support/troubleshooting\",\u001b[0m\u001b[32m{\u001b[0m\u001b[32m\"title\":1298,\"visible\":10,\"categoryName\":10,\"sections\":1299\u001b[0m\u001b[32m}\u001b[0m\u001b[32m,\"Install\",\u001b[0m\u001b[32m[\u001b[0m\u001b[32m1300,4404\u001b[0m\u001b[32m]\u001b[0m\u001b[32m,\u001b[0m\u001b[32m{\u001b[0m\u001b[32m\"title\":1301,\"visible\":10,\"weight\":13,\"urlFragment\":14,\"anchor\":15,\"singlePageAnchor\":15,\"subChapters\":1302,\"url\":1303,\"docTitle\":1304,\"sections\":1305\u001b[0m\u001b[32m}\u001b[0m\u001b[32m,\"Installing\",\u001b[0m\u001b[32m[\u001b[0m\u001b[32m]\u001b[0m\u001b[32m,\"/documentation/openshift_container_platform/4.11/html/installing/index\",\"installing\",\u001b[0m\u001b[32m[\u001b[0m\u001b[32m1306,1317,1330,1422,1524,1906,2129,2237,2576,2648,2686,2885,2913,2931,3026,3044,3142,3253,3359,3601,3724,4003,4282,4339,4365,4380,4392\u001b[0m\u001b[32m]\u001b[0m\u001b[32m,\u001b[0m\u001b[32m{\u001b[0m\u001b[32m\"title\":1307,\"visible\":10,\"weight\":22,\"urlFragment\":1308,\"anchor\":15,\"singlePageAnchor\":1308,\"subChapters\":1309,\"url\":1316,\"docTitle\":1304\u001b[0m\u001b[32m}\u001b[0m\u001b[32m,\"OpenShift Container Platform installation overview\",\"ocp-installation-overview\",\u001b[0m\u001b[32m[\u001b[0m\u001b[32m1310,460,461,1311,1312,1313,1314,1315\u001b[0m\u001b[32m]\u001b[0m\u001b[32m,\"installation-overview_ocp-installation-overview\",\"install-openshift-common-terms_ocp-installation-overview\",\"installation-process_ocp-installation-overview\",\"ipi-verifying-nodes-after-installation_ocp-installation-overview\",\"installation-openshift-local_ocp-installation-overview\",\"supported-platforms-for-openshift-clusters_ocp-installation-overview\",\"/documentation/openshift_container_platform/4.11/html/installing/ocp-installation-overview\\n'\u001b[0m\u001b[39m,\u001b[0m\n",
       "\u001b[2;32m│   │   \u001b[0m\u001b[33mtype\u001b[0m\u001b[39m=\u001b[0m\u001b[32m'text'\u001b[0m\n",
       "\u001b[2;32m│   \u001b[0m\u001b[1;39m)\u001b[0m\u001b[39m,\u001b[0m\n",
       "\u001b[2;32m│   \u001b[0m\u001b[1;35mTextContentItem\u001b[0m\u001b[1;39m(\u001b[0m\n",
       "\u001b[2;32m│   │   \u001b[0m\u001b[33mtext\u001b[0m\u001b[39m=\u001b[0m\u001b[32m'Result 5:\\nDocument_id:num-0\\nContent: 003C/li>\\\\u003Cli \u001b[0m\u001b[32mclass\u001b[0m\u001b[32m=\\\\\"listitem\\\\\">\\\\u003Cp \u001b[0m\u001b[32mclass\u001b[0m\u001b[32m=\\\\\"simpara\\\\\">\\\\n\\\\t\\\\t\\\\t\\\\t\\\\t\\\\t\\\\t\\\\t\\\\tIf the pod has more than one container, the preceding command will create an error, and the container names will be provided in the error message. Inspect logs for each container:\\\\n\\\\t\\\\t\\\\t\\\\t\\\\t\\\\t\\\\t\\\\t\\\\u003C/p>\\\\u003Cpre \u001b[0m\u001b[32mclass\u001b[0m\u001b[32m=\\\\\"programlisting language-terminal\\\\\">$ oc logs pod/&lt;pod_name&gt; -c &lt;container_name&gt; -n &lt;namespace&gt;\\\\u003C/pre>\\\\u003C/li>\\\\u003C/ol>\\\\u003C/div>\\\\u003C/li>\\\\u003Cli \u001b[0m\u001b[32mclass\u001b[0m\u001b[32m=\\\\\"listitem\\\\\">\\\\u003Cp \u001b[0m\u001b[32mclass\u001b[0m\u001b[32m=\\\\\"simpara\\\\\">\\\\n\\\\t\\\\t\\\\t\\\\t\\\\t\\\\t\\\\tIf the API is not functional, review etcd pod and container logs on each control plane node by using SSH instead. Replace \\\\u003Ccode \u001b[0m\u001b[32mclass\u001b[0m\u001b[32m=\\\\\"literal\\\\\">&lt;master-node&gt;.&lt;cluster_name&gt;.&lt;base_domain&gt;\\\\u003C/code> with appropriate values.\\\\n\\\\t\\\\t\\\\t\\\\t\\\\t\\\\t\\\\u003C/p>\\\\u003Cdiv \u001b[0m\u001b[32mclass\u001b[0m\u001b[32m=\\\\\"orderedlist\\\\\">\\\\u003Col \u001b[0m\u001b[32mclass\u001b[0m\u001b[32m=\\\\\"orderedlist\\\\\" \u001b[0m\u001b[32mtype\u001b[0m\u001b[32m=\\\\\"a\\\\\">\\\\u003Cli \u001b[0m\u001b[32mclass\u001b[0m\u001b[32m=\\\\\"listitem\\\\\">\\\\u003Cp \u001b[0m\u001b[32mclass\u001b[0m\u001b[32m=\\\\\"simpara\\\\\">\\\\n\\\\t\\\\t\\\\t\\\\t\\\\t\\\\t\\\\t\\\\t\\\\tList etcd pods on each control plane node:\\\\n\\\\t\\\\t\\\\t\\\\t\\\\t\\\\t\\\\t\\\\t\\\\u003C/p>\\\\u003Cpre \u001b[0m\u001b[32mclass\u001b[0m\u001b[32m=\\\\\"programlisting language-terminal\\\\\">$ ssh core@&lt;master-node&gt;.&lt;cluster_name&gt;.&lt;base_domain&gt; sudo crictl pods --\u001b[0m\u001b[32mname\u001b[0m\u001b[32m=\u001b[0m\u001b[32metcd\u001b[0m\u001b[32m-\\\\u003C/pre>\\\\u003C/li>\\\\u003Cli \u001b[0m\u001b[32mclass\u001b[0m\u001b[32m=\\\\\"listitem\\\\\">\\\\u003Cp \u001b[0m\u001b[32mclass\u001b[0m\u001b[32m=\\\\\"simpara\\\\\">\\\\n\\\\t\\\\t\\\\t\\\\t\\\\t\\\\t\\\\t\\\\t\\\\tFor any pods not showing \\\\u003Ccode \u001b[0m\u001b[32mclass\u001b[0m\u001b[32m=\\\\\"literal\\\\\">Ready\\\\u003C/code> status, inspect pod status in detail. Replace \\\\u003Ccode \u001b[0m\u001b[32mclass\u001b[0m\u001b[32m=\\\\\"literal\\\\\">&lt;pod_id&gt;\\\\u003C/code> with the pod’s ID listed in the output of the preceding command:\\\\n\\\\t\\\\t\\\\t\\\\t\\\\t\\\\t\\\\t\\\\t\\\\u003C/p>\\\\u003Cpre \u001b[0m\u001b[32mclass\u001b[0m\u001b[32m=\\\\\"programlisting language-terminal\\\\\"\u001b[0m\u001b[32m>\u001b[0m\u001b[32m$ ssh core@&lt;master-node&gt;.&lt;cluster_name&gt;.&lt;base_domain\\n'\u001b[0m,\n",
       "\u001b[2;32m│   │   \u001b[0m\u001b[33mtype\u001b[0m=\u001b[32m'text'\u001b[0m\n",
       "\u001b[2;32m│   \u001b[0m\u001b[1m)\u001b[0m,\n",
       "\u001b[2;32m│   \u001b[0m\u001b[1;35mTextContentItem\u001b[0m\u001b[1m(\u001b[0m\u001b[33mtext\u001b[0m=\u001b[32m'END of knowledge_search tool results.\\n'\u001b[0m, \u001b[33mtype\u001b[0m=\u001b[32m'text'\u001b[0m\u001b[1m)\u001b[0m,\n",
       "\u001b[2;32m│   \u001b[0m\u001b[1;35mTextContentItem\u001b[0m\u001b[1m(\u001b[0m\n",
       "\u001b[2;32m│   │   \u001b[0m\u001b[33mtext\u001b[0m=\u001b[32m'The above results were retrieved to help answer the user\\'s query: \"Container failed due to an unexpected issue during startup\". Use them as supporting information only in answering this query.\\n'\u001b[0m,\n",
       "\u001b[2;32m│   │   \u001b[0m\u001b[33mtype\u001b[0m=\u001b[32m'text'\u001b[0m\n",
       "\u001b[2;32m│   \u001b[0m\u001b[1m)\u001b[0m\n",
       "\u001b[1m]\u001b[0m\n"
      ]
     },
     "metadata": {},
     "output_type": "display_data"
    },
    {
     "name": "stdout",
     "output_type": "stream",
     "text": [
      "\n",
      "---------- 📍 Step 3: InferenceStep ----------\n",
      "🤖 Model Response:\n",
      "\u001b[35mBased on the search results, here's a summary:\n",
      "\n",
      "To resolve the \"Container failed due to an unexpected issue during startup\" error, consider the following steps:\n",
      "\n",
      "1. Check if the issue is related to missing dependencies, configuration errors, or permission issues.\n",
      "2. Verify if the container runtime (like CRI-O) is functioning correctly.\n",
      "3. If the node is in \"NotReady\" state after a cluster upgrade or reboot, troubleshoot accordingly.\n",
      "4. If the error persists, consider wiping the CRI-O storage completely, following the provided process.\n",
      "\n",
      "Remember, these steps are general suggestions based on the search results. The exact solution may vary depending on your specific setup and environment.\n",
      "\u001b[0m\n",
      "========== Query processing completed ========== \n",
      "\n",
      "\n",
      "---------- 📍 Step 1: InferenceStep ----------\n",
      "🛠️ Tool call Generated:\n",
      "\u001b[35mTool call: slack_post_message, Arguments: {'channel_id': 'demos', 'text': \"Container failed due to an unexpected issue during startup. Here's a summary of potential steps to resolve: 1) Check for missing dependencies, configuration errors, or permission issues. 2) Verify the functioning of the container runtime (like CRI-O). 3) Troubleshoot if the node is in 'NotReady' state after a cluster upgrade or reboot. 4) If needed, consider wiping the CRI-O storage completely. Note: These are general suggestions, and the exact solution may vary based on your specific setup and environment.\"}\u001b[0m\n",
      "\n",
      "---------- 📍 Step 2: ToolExecutionStep ----------\n",
      "🔧 Executing tool...\n"
     ]
    },
    {
     "data": {
      "text/html": [
       "<pre style=\"white-space:pre;overflow-x:auto;line-height:normal;font-family:Menlo,'DejaVu Sans Mono',consolas,'Courier New',monospace\"><span style=\"font-weight: bold\">{</span>\n",
       "<span style=\"color: #7fbf7f; text-decoration-color: #7fbf7f\">│   </span><span style=\"color: #008000; text-decoration-color: #008000\">'type'</span>: <span style=\"color: #008000; text-decoration-color: #008000\">'text'</span>,\n",
       "<span style=\"color: #7fbf7f; text-decoration-color: #7fbf7f\">│   </span><span style=\"color: #008000; text-decoration-color: #008000\">'text'</span>: <span style=\"color: #008000; text-decoration-color: #008000\">'{\"ok\":true,\"channel\":\"C08MUDSNHED\",\"ts\":\"1747095555.646859\",\"message\":{\"user\":\"U08MM2P7BEF\",\"type\":\"message\",\"ts\":\"1747095555.646859\",\"bot_id\":\"B08MM2P60KV\",\"app_id\":\"A08MLQCUGUS\",\"text\":\"Container failed due to an unexpected issue during startup. Here\\'s a summary of potential steps to resolve: 1) Check for missing dependencies, configuration errors, or permission issues. 2) Verify the functioning of the container runtime (like CRI-O). 3) Troubleshoot if the node is in \\'NotReady\\' state after a cluster upgrade or reboot. 4) If needed, consider wiping the CRI-O storage completely. Note: These are general suggestions, and the exact solution may vary based on your specific setup and environment.\",\"team\":\"T08M9UTL2DC\",\"bot_profile\":{\"id\":\"B08MM2P60KV\",\"app_id\":\"A08MLQCUGUS\",\"user_id\":\"U08MM2P7BEF\",\"name\":\"et-slack-bot\",\"icons\":{\"image_36\":\"https://a.slack-edge.com/80588/img/plugins/app/bot_36.png\",\"image_48\":\"https://a.slack-edge.com/80588/img/plugins/app/bot_48.png\",\"image_72\":\"https://a.slack-edge.com/80588/img/plugins/app/service_72.png\"},\"deleted\":false,\"updated\":1744227670,\"team_id\":\"T08M9UTL2DC\"},\"blocks\":[{\"type\":\"rich_text\",\"block_id\":\"Bri57\",\"elements\":[{\"type\":\"rich_text_section\",\"elements\":[{\"type\":\"text\",\"text\":\"Container failed due to an unexpected issue during startup. Here\\'s a summary of potential steps to resolve: 1) Check for missing dependencies, configuration errors, or permission issues. 2) Verify the functioning of the container runtime (like CRI-O). 3) Troubleshoot if the node is in \\'NotReady\\' state after a cluster upgrade or reboot. 4) If needed, consider wiping the CRI-O storage completely. Note: These are general suggestions, and the exact solution may vary based on your specific setup and environment.\"}]}]}]},\"warning\":\"missing_charset\",\"response_metadata\":{\"warnings\":[\"missing_charset\"]}}'</span>,\n",
       "<span style=\"color: #7fbf7f; text-decoration-color: #7fbf7f\">│   </span><span style=\"color: #008000; text-decoration-color: #008000\">'annotations'</span>: <span style=\"color: #800080; text-decoration-color: #800080; font-style: italic\">None</span>\n",
       "<span style=\"font-weight: bold\">}</span>\n",
       "</pre>\n"
      ],
      "text/plain": [
       "\u001b[1m{\u001b[0m\n",
       "\u001b[2;32m│   \u001b[0m\u001b[32m'type'\u001b[0m: \u001b[32m'text'\u001b[0m,\n",
       "\u001b[2;32m│   \u001b[0m\u001b[32m'text'\u001b[0m: \u001b[32m'\u001b[0m\u001b[32m{\u001b[0m\u001b[32m\"ok\":true,\"channel\":\"C08MUDSNHED\",\"ts\":\"1747095555.646859\",\"message\":\u001b[0m\u001b[32m{\u001b[0m\u001b[32m\"user\":\"U08MM2P7BEF\",\"type\":\"message\",\"ts\":\"1747095555.646859\",\"bot_id\":\"B08MM2P60KV\",\"app_id\":\"A08MLQCUGUS\",\"text\":\"Container failed due to an unexpected issue during startup. Here\\'s a summary of potential steps to resolve: 1\u001b[0m\u001b[32m)\u001b[0m\u001b[32m Check for missing dependencies, configuration errors, or permission issues. 2\u001b[0m\u001b[32m)\u001b[0m\u001b[32m Verify the functioning of the container runtime \u001b[0m\u001b[32m(\u001b[0m\u001b[32mlike CRI-O\u001b[0m\u001b[32m)\u001b[0m\u001b[32m. 3\u001b[0m\u001b[32m)\u001b[0m\u001b[32m Troubleshoot if the node is in \\'NotReady\\' state after a cluster upgrade or reboot. 4\u001b[0m\u001b[32m)\u001b[0m\u001b[32m If needed, consider wiping the CRI-O storage completely. Note: These are general suggestions, and the exact solution may vary based on your specific setup and environment.\",\"team\":\"T08M9UTL2DC\",\"bot_profile\":\u001b[0m\u001b[32m{\u001b[0m\u001b[32m\"id\":\"B08MM2P60KV\",\"app_id\":\"A08MLQCUGUS\",\"user_id\":\"U08MM2P7BEF\",\"name\":\"et-slack-bot\",\"icons\":\u001b[0m\u001b[32m{\u001b[0m\u001b[32m\"image_36\":\"https://a.slack-edge.com/80588/img/plugins/app/bot_36.png\",\"image_48\":\"https://a.slack-edge.com/80588/img/plugins/app/bot_48.png\",\"image_72\":\"https://a.slack-edge.com/80588/img/plugins/app/service_72.png\"\u001b[0m\u001b[32m}\u001b[0m\u001b[32m,\"deleted\":false,\"updated\":1744227670,\"team_id\":\"T08M9UTL2DC\"\u001b[0m\u001b[32m}\u001b[0m\u001b[32m,\"blocks\":\u001b[0m\u001b[32m[\u001b[0m\u001b[32m{\u001b[0m\u001b[32m\"type\":\"rich_text\",\"block_id\":\"Bri57\",\"elements\":\u001b[0m\u001b[32m[\u001b[0m\u001b[32m{\u001b[0m\u001b[32m\"type\":\"rich_text_section\",\"elements\":\u001b[0m\u001b[32m[\u001b[0m\u001b[32m{\u001b[0m\u001b[32m\"type\":\"text\",\"text\":\"Container failed due to an unexpected issue during startup. Here\\'s a summary of potential steps to resolve: 1\u001b[0m\u001b[32m)\u001b[0m\u001b[32m Check for missing dependencies, configuration errors, or permission issues. 2\u001b[0m\u001b[32m)\u001b[0m\u001b[32m Verify the functioning of the container runtime \u001b[0m\u001b[32m(\u001b[0m\u001b[32mlike CRI-O\u001b[0m\u001b[32m)\u001b[0m\u001b[32m. 3\u001b[0m\u001b[32m)\u001b[0m\u001b[32m Troubleshoot if the node is in \\'NotReady\\' state after a cluster upgrade or reboot. 4\u001b[0m\u001b[32m)\u001b[0m\u001b[32m If needed, consider wiping the CRI-O storage completely. Note: These are general suggestions, and the exact solution may vary based on your specific setup and environment.\"\u001b[0m\u001b[32m}\u001b[0m\u001b[32m]\u001b[0m\u001b[32m}\u001b[0m\u001b[32m]\u001b[0m\u001b[32m}\u001b[0m\u001b[32m]\u001b[0m\u001b[32m}\u001b[0m\u001b[32m,\"warning\":\"missing_charset\",\"response_metadata\":\u001b[0m\u001b[32m{\u001b[0m\u001b[32m\"warnings\":\u001b[0m\u001b[32m[\u001b[0m\u001b[32m\"missing_charset\"\u001b[0m\u001b[32m]\u001b[0m\u001b[32m}\u001b[0m\u001b[32m}\u001b[0m\u001b[32m'\u001b[0m,\n",
       "\u001b[2;32m│   \u001b[0m\u001b[32m'annotations'\u001b[0m: \u001b[3;35mNone\u001b[0m\n",
       "\u001b[1m}\u001b[0m\n"
      ]
     },
     "metadata": {},
     "output_type": "display_data"
    },
    {
     "name": "stdout",
     "output_type": "stream",
     "text": [
      "\n",
      "---------- 📍 Step 3: InferenceStep ----------\n",
      "🤖 Model Response:\n",
      "\u001b[35mThe message has been successfully posted to the \"demos\" channel on Slack. Here's the message:\n",
      "\n",
      "\"Container failed due to an unexpected issue during startup. Here's a summary of potential steps to resolve: 1) Check for missing dependencies, configuration errors, or permission issues. 2) Verify the functioning of the container runtime (like CRI-O). 3) Troubleshoot if the node is in 'NotReady' state after a cluster upgrade or reboot. 4) If needed, consider wiping the CRI-O storage completely. Note: These are general suggestions, and the exact solution may vary based on your specific setup and environment.\"\n",
      "\u001b[0m\n",
      "========== Query processing completed ========== \n",
      "\n"
     ]
    }
   ],
   "source": [
    "# Create simple agent with tools\n",
    "agent = Agent(\n",
    "    client,\n",
    "    model=model_id, # replace this with your choice of model\n",
    "    instructions = model_prompt , # update system prompt based on the model you are using\n",
    "    tools=[dict(\n",
    "            name=\"builtin::rag\",\n",
    "            args={\n",
    "                \"vector_db_ids\": [vector_db_id],  # list of IDs of document collections to consider during retrieval\n",
    "            },\n",
    "        ),\"mcp::openshift\", \"mcp::slack\"],\n",
    "    tool_config={\"tool_choice\":\"auto\"},\n",
    "    sampling_params=sampling_params\n",
    ")\n",
    "\n",
    "user_prompts = [\"View the logs for pod slack-test in the llama-serve OpenShift namespace. Categorize it as normal or error.\",\n",
    "                \"Search for solutions on this error and provide a summary of the steps to take in just 1-2 sentences.\",\n",
    "               \"Send a message with the summarization to the demos channel on Slack.\"]\n",
    "session_id = agent.create_session(session_name=\"OCP_Slack_demo\")\n",
    "for i, prompt in enumerate(user_prompts):\n",
    "    response = agent.create_turn(\n",
    "        messages=[\n",
    "            {\n",
    "                \"role\":\"user\",\n",
    "                \"content\": prompt\n",
    "            }\n",
    "        ],\n",
    "        session_id=session_id,\n",
    "        stream=stream,\n",
    "    )\n",
    "    if stream:\n",
    "        for log in EventLogger().log(response):\n",
    "            log.print()\n",
    "    else:\n",
    "        step_printer(response.steps) # print the steps of an agent's response in a formatted way. "
   ]
  },
  {
   "cell_type": "markdown",
   "id": "9a105531",
   "metadata": {},
   "source": [
    "### Output Analysis\n",
    "\n",
    "Lets step through the output to further understands whats happening in this Agentic demo.\n",
    "\n",
    "1. First the LLM sends off a tool call to the `pods_log` tool configured with the OpenShift MCP server, to fetch the logs for the pod specified from the OpenShift cluster.\n",
    "2. The tool successfully retrieves the logs for the pod.\n",
    "3. The LLM recieves the response from the tool call, which are the pod logs, along with the original query and using its own knowledge tries to categorize it as 'Normal or 'Error'.\n",
    "4. Next, the LLM sends a tool call to the RAG tool, to query the vector DB on the documents for the error from the pod logs and look for a solution to resolve the error from the document.\n",
    "5. The LLM recieves the response from the tool call, and summarizes the information it retreived from the document.\n",
    "6. Finally, the LLM sends the summarization as a message on Slack using the `slack_post_message` tool call configured with the Slack MCP server."
   ]
  },
  {
   "cell_type": "markdown",
   "id": "3105c368",
   "metadata": {},
   "source": [
    "## Key Takeaways\n",
    "\n",
    "This tutorial demonstrates how to implement agentic RAG and MCP applications with Llama Stack. We do so by initializing an agent while giving it access to the MCP tools, and RAG tool configured with Llama Stack, then invoking the agent on the specified query. Please check out our other notebooks for more examples using Llama Stack."
   ]
  }
 ],
 "metadata": {
  "kernelspec": {
   "display_name": "Python 3.11",
   "language": "python",
   "name": "python3"
  },
  "language_info": {
   "codemirror_mode": {
    "name": "ipython",
    "version": 3
   },
   "file_extension": ".py",
   "mimetype": "text/x-python",
   "name": "python",
   "nbconvert_exporter": "python",
   "pygments_lexer": "ipython3",
   "version": "3.11.9"
  }
 },
 "nbformat": 4,
 "nbformat_minor": 5
}
